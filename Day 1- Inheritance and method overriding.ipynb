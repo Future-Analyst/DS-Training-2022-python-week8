{
 "cells": [
  {
   "cell_type": "code",
   "execution_count": null,
   "id": "88f47339",
   "metadata": {},
   "outputs": [],
   "source": [
    "class Rectangle:\n",
    "    \n",
    "    def __init__(self,length,width):\n",
    "        self.length=length\n",
    "        self.width=width\n",
    "    \n",
    "    def setLength(self,length):\n",
    "        self.length=length\n",
    "        \n",
    "    def setWidth(self,width):\n",
    "        self.width=width\n",
    "        \n",
    "    def getLength(self):\n",
    "        return self.length\n",
    "        \n",
    "    def getWidth(self):\n",
    "        return self.width\n",
    "        "
   ]
  },
  {
   "cell_type": "code",
   "execution_count": null,
   "id": "ec4e2d63",
   "metadata": {},
   "outputs": [],
   "source": [
    "rec1= Rectangle(12,10)"
   ]
  },
  {
   "cell_type": "code",
   "execution_count": null,
   "id": "9bc49e98",
   "metadata": {},
   "outputs": [],
   "source": [
    "rec1.length"
   ]
  },
  {
   "cell_type": "code",
   "execution_count": null,
   "id": "aa378f25",
   "metadata": {},
   "outputs": [],
   "source": [
    "rec1.width"
   ]
  },
  {
   "cell_type": "code",
   "execution_count": null,
   "id": "1f8e1814",
   "metadata": {},
   "outputs": [],
   "source": [
    "rec1.getLength()"
   ]
  },
  {
   "cell_type": "code",
   "execution_count": null,
   "id": "02eebac2",
   "metadata": {},
   "outputs": [],
   "source": [
    "rec1.getWidth()"
   ]
  },
  {
   "cell_type": "code",
   "execution_count": null,
   "id": "95bfd0b3",
   "metadata": {},
   "outputs": [],
   "source": [
    "rec1.length=100"
   ]
  },
  {
   "cell_type": "code",
   "execution_count": null,
   "id": "f82d7a84",
   "metadata": {},
   "outputs": [],
   "source": [
    "rec1.getLength()"
   ]
  },
  {
   "cell_type": "code",
   "execution_count": null,
   "id": "d1fdb81e",
   "metadata": {},
   "outputs": [],
   "source": [
    "class Square(Rectangle):\n",
    "    def __init__(self,length):\n",
    "        self.length=length\n",
    "    \n",
    "    def getArea(self):\n",
    "        return self.length**2"
   ]
  },
  {
   "cell_type": "code",
   "execution_count": null,
   "id": "4daff4b9",
   "metadata": {},
   "outputs": [],
   "source": [
    "square1=Square(10)"
   ]
  },
  {
   "cell_type": "code",
   "execution_count": null,
   "id": "983a21d9",
   "metadata": {},
   "outputs": [],
   "source": [
    "square1"
   ]
  },
  {
   "cell_type": "code",
   "execution_count": null,
   "id": "ddde357e",
   "metadata": {},
   "outputs": [],
   "source": [
    "square1.getLength()"
   ]
  },
  {
   "cell_type": "code",
   "execution_count": null,
   "id": "6dd33c66",
   "metadata": {},
   "outputs": [],
   "source": [
    "square1.getWidth()"
   ]
  },
  {
   "cell_type": "code",
   "execution_count": null,
   "id": "aaed08ee",
   "metadata": {},
   "outputs": [],
   "source": [
    "square1.setLength(400)"
   ]
  },
  {
   "cell_type": "code",
   "execution_count": null,
   "id": "1ee80368",
   "metadata": {},
   "outputs": [],
   "source": [
    "square1.getLength()"
   ]
  },
  {
   "cell_type": "code",
   "execution_count": null,
   "id": "266520b9",
   "metadata": {},
   "outputs": [],
   "source": [
    "square1.getArea()"
   ]
  },
  {
   "cell_type": "code",
   "execution_count": null,
   "id": "0d0f6e96",
   "metadata": {},
   "outputs": [],
   "source": [
    "class Square(Rectangle):\n",
    "    def __init__(self,length):\n",
    "        self.length=length\n",
    "        self.width=self.length\n",
    "    \n",
    "    def getArea(self):\n",
    "        return self.length**2"
   ]
  },
  {
   "cell_type": "code",
   "execution_count": null,
   "id": "322ae9ca",
   "metadata": {},
   "outputs": [],
   "source": [
    "square2=Square(20)"
   ]
  },
  {
   "cell_type": "code",
   "execution_count": null,
   "id": "a785a161",
   "metadata": {},
   "outputs": [],
   "source": [
    "square2.length"
   ]
  },
  {
   "cell_type": "code",
   "execution_count": null,
   "id": "366ea6bf",
   "metadata": {},
   "outputs": [],
   "source": [
    "square2.width"
   ]
  },
  {
   "cell_type": "code",
   "execution_count": null,
   "id": "84e6048d",
   "metadata": {},
   "outputs": [],
   "source": [
    "square2.length=30"
   ]
  },
  {
   "cell_type": "code",
   "execution_count": null,
   "id": "46015099",
   "metadata": {},
   "outputs": [],
   "source": [
    "square2.width"
   ]
  },
  {
   "cell_type": "code",
   "execution_count": null,
   "id": "cebce810",
   "metadata": {},
   "outputs": [],
   "source": [
    "square2.getWidth()"
   ]
  },
  {
   "cell_type": "code",
   "execution_count": null,
   "id": "9fd8324e",
   "metadata": {},
   "outputs": [],
   "source": [
    "class Animal:\n",
    "    \n",
    "    def __init__(self,name,isAgressive=False,kind=\"domestic\"):\n",
    "        self.name=name\n",
    "        self.isAgressive=isAgressive\n",
    "        self.kind=kind\n",
    "        \n",
    "    def makeSound(self):\n",
    "        return \"This animal can make a sound\"\n",
    "    \n",
    "    def walk(self):\n",
    "        return \"Animal walks\"\n",
    "    "
   ]
  },
  {
   "cell_type": "code",
   "execution_count": null,
   "id": "3063932e",
   "metadata": {},
   "outputs": [],
   "source": [
    "class Dog(Animal):\n",
    "    \n",
    "    def __init__(self,name):\n",
    "        self.name=name\n",
    "    \n",
    "    "
   ]
  },
  {
   "cell_type": "code",
   "execution_count": null,
   "id": "0898ece7",
   "metadata": {},
   "outputs": [],
   "source": [
    "dog=Dog(\"Jimmy\")\n",
    "dog.makeSound()"
   ]
  },
  {
   "cell_type": "code",
   "execution_count": null,
   "id": "2a6b0e52",
   "metadata": {},
   "outputs": [],
   "source": [
    "dog.walk()"
   ]
  },
  {
   "cell_type": "code",
   "execution_count": null,
   "id": "43dc079d",
   "metadata": {},
   "outputs": [],
   "source": [
    "class Dog(Animal):\n",
    "    \n",
    "    def __init__(self,name):\n",
    "        self.name=name\n",
    "        \n",
    "    def makeSound(self):\n",
    "        return f\"{self.name} barks\"\n",
    "    "
   ]
  },
  {
   "cell_type": "code",
   "execution_count": null,
   "id": "90d8d594",
   "metadata": {},
   "outputs": [],
   "source": [
    "dog=Dog(\"Jimmy\")\n",
    "dog.makeSound()"
   ]
  },
  {
   "cell_type": "code",
   "execution_count": null,
   "id": "1d7447c3",
   "metadata": {},
   "outputs": [],
   "source": [
    "class Animal:\n",
    "    \n",
    "    def __init__(self,name,isAgressive=False,kind=\"domestic\"):\n",
    "        self.name=name\n",
    "        self.isAgressive=isAgressive\n",
    "        self.kind=kind\n",
    "        \n",
    "    def __makeSound(self):\n",
    "        return \"This animal can make a sound\"\n",
    "    \n",
    "    def walk(self):\n",
    "        return \"Animal walks\"\n",
    "    \n",
    "    def callIt(self):\n",
    "        return self.__makeSound()\n",
    "    "
   ]
  },
  {
   "cell_type": "code",
   "execution_count": null,
   "id": "49184a8f",
   "metadata": {},
   "outputs": [],
   "source": [
    "animal1=Animal(\"bobby\")"
   ]
  },
  {
   "cell_type": "code",
   "execution_count": null,
   "id": "48477d05",
   "metadata": {},
   "outputs": [],
   "source": [
    "animal1.__makeSound()"
   ]
  },
  {
   "cell_type": "code",
   "execution_count": null,
   "id": "00074fc3",
   "metadata": {},
   "outputs": [],
   "source": [
    "animal1.callIt()"
   ]
  },
  {
   "cell_type": "code",
   "execution_count": null,
   "id": "a224ffae",
   "metadata": {},
   "outputs": [],
   "source": [
    "class Dog(Animal):\n",
    "    \n",
    "    def __init__(self,name):\n",
    "        self.name=name\n",
    "        \n",
    "    "
   ]
  },
  {
   "cell_type": "markdown",
   "id": "30cbd0dd",
   "metadata": {},
   "source": [
    "\n",
    "## Practice Questions"
   ]
  },
  {
   "cell_type": "markdown",
   "id": "602f3e79",
   "metadata": {},
   "source": [
    "### 148\n",
    "Create a program that sums all of the numbers entered by the user while ignoring\n",
    "\n",
    "any lines entered by the user that are not valid numbers. Your program should dis-\n",
    "play the current sum after each number is entered. It should display an appropriate\n",
    "\n",
    "error message after any invalid input, and then continue to sum any additional num-\n",
    "bers entered by the user. Your program should exit when the user enters a blank\n",
    "\n",
    "line. Ensure that your program works correctly for both integers and floating point\n",
    "numbers."
   ]
  },
  {
   "cell_type": "code",
   "execution_count": null,
   "id": "3543dbf1",
   "metadata": {},
   "outputs": [],
   "source": [
    "def sumOfEntries():\n",
    "    sumOfNumbers=0\n",
    "    while True:\n",
    "        n = float(input(\"Enter a number:\"))\n",
    "        sumOfNumbers +=n\n",
    "        print(sumOfNumbers)"
   ]
  },
  {
   "cell_type": "code",
   "execution_count": null,
   "id": "3f9b0c03",
   "metadata": {},
   "outputs": [],
   "source": [
    "sumOfEntries()"
   ]
  },
  {
   "cell_type": "code",
   "execution_count": null,
   "id": "b9d92592",
   "metadata": {},
   "outputs": [],
   "source": [
    "def sumOfEntries():\n",
    "    sumOfNumbers=0\n",
    "    while True:\n",
    "        try:\n",
    "            \n",
    "            n = float(input(\"Enter a number:\"))\n",
    "        except ValueError:\n",
    "            continue\n",
    "        sumOfNumbers +=n\n",
    "        print(sumOfNumbers)"
   ]
  },
  {
   "cell_type": "code",
   "execution_count": null,
   "id": "75dede35",
   "metadata": {},
   "outputs": [],
   "source": [
    "sumOfEntries()"
   ]
  },
  {
   "cell_type": "code",
   "execution_count": 1,
   "id": "b831d24c",
   "metadata": {},
   "outputs": [],
   "source": [
    "def sumOfEntries():\n",
    "    sumOfNumbers=0\n",
    "    while True:\n",
    "        try:\n",
    "            \n",
    "            n = input(\"Enter a number:\")\n",
    "            if n==\" \":\n",
    "                break\n",
    "            n= float(n)\n",
    "        except ValueError:\n",
    "            print(\"Are you stupid, dumb or both?\")\n",
    "            continue\n",
    "        sumOfNumbers +=n\n",
    "        print(sumOfNumbers)"
   ]
  },
  {
   "cell_type": "code",
   "execution_count": 3,
   "id": "673c5563",
   "metadata": {},
   "outputs": [
    {
     "name": "stdout",
     "output_type": "stream",
     "text": [
      "Enter a number:45\n",
      "45.0\n",
      "Enter a number:34\n",
      "79.0\n",
      "Enter a number:dncjdnjd\n",
      "Are you stupid, dumb or both?\n",
      "Enter a number: \n"
     ]
    }
   ],
   "source": [
    "sumOfEntries()"
   ]
  },
  {
   "cell_type": "code",
   "execution_count": 4,
   "id": "209b06d1",
   "metadata": {},
   "outputs": [
    {
     "name": "stdout",
     "output_type": "stream",
     "text": [
      "Enter a sentence: come here\n",
      "7\n"
     ]
    }
   ],
   "source": [
    "sentence= input(\"Enter a sentence: \")\n",
    "uniques=[]\n",
    "for char in sentence:\n",
    "    if not (char in uniques):\n",
    "        uniques.append(char)\n",
    "print(len(uniques))\n",
    "        "
   ]
  },
  {
   "cell_type": "code",
   "execution_count": 5,
   "id": "5994c2ba",
   "metadata": {},
   "outputs": [
    {
     "name": "stdout",
     "output_type": "stream",
     "text": [
      "Enter a sentence: Come here\n",
      "7\n"
     ]
    }
   ],
   "source": [
    "sentence= input(\"Enter a sentence: \")\n",
    "uniques=set(sentence)\n",
    "print(len(uniques))\n",
    "        "
   ]
  },
  {
   "cell_type": "code",
   "execution_count": 7,
   "id": "cfdc158a",
   "metadata": {},
   "outputs": [
    {
     "name": "stdout",
     "output_type": "stream",
     "text": [
      "Enter a sentence: this is it\n",
      "5\n"
     ]
    }
   ],
   "source": [
    "print(len(set(input(\"Enter a sentence: \"))))\n",
    "\n",
    "        "
   ]
  },
  {
   "cell_type": "code",
   "execution_count": 9,
   "id": "86edee89",
   "metadata": {},
   "outputs": [
    {
     "name": "stdout",
     "output_type": "stream",
     "text": [
      "Enter a sentence: This is it\n",
      "{'T': 1, 'h': 1, 'i': 1, 's': 1, ' ': 1, 't': 1}\n",
      "6\n"
     ]
    }
   ],
   "source": [
    "sentence= input(\"Enter a sentence: \")\n",
    "uniques={}\n",
    "for char in sentence:\n",
    "    uniques[char]=1\n",
    "print(uniques)\n",
    "print(len(uniques))\n"
   ]
  },
  {
   "cell_type": "code",
   "execution_count": 8,
   "id": "72e5c015",
   "metadata": {},
   "outputs": [
    {
     "data": {
      "text/plain": [
       "1"
      ]
     },
     "execution_count": 8,
     "metadata": {},
     "output_type": "execute_result"
    }
   ],
   "source": [
    "len({2:5})"
   ]
  },
  {
   "cell_type": "code",
   "execution_count": 10,
   "id": "13241b6c",
   "metadata": {},
   "outputs": [
    {
     "name": "stdout",
     "output_type": "stream",
     "text": [
      "Enter a sentence: Come here \n",
      "{'C': 1, 'o': 1, 'm': 1, 'e': 3, ' ': 2, 'h': 1, 'r': 1}\n",
      "7\n"
     ]
    }
   ],
   "source": [
    "sentence= input(\"Enter a sentence: \")\n",
    "uniques={char:0 for char in sentence} # dictionary comprehension\n",
    "for char in sentence:\n",
    "    uniques[char]+=1\n",
    "print(uniques)\n",
    "print(len(uniques))\n"
   ]
  },
  {
   "cell_type": "code",
   "execution_count": 11,
   "id": "e1d9d063",
   "metadata": {},
   "outputs": [
    {
     "data": {
      "text/plain": [
       "True"
      ]
     },
     "execution_count": 11,
     "metadata": {},
     "output_type": "execute_result"
    }
   ],
   "source": [
    "{2,4,3,5}=={4,3,5,2,3}"
   ]
  },
  {
   "cell_type": "code",
   "execution_count": 12,
   "id": "bb54d7bf",
   "metadata": {},
   "outputs": [
    {
     "data": {
      "text/plain": [
       "0.5714285714285714"
      ]
     },
     "execution_count": 12,
     "metadata": {},
     "output_type": "execute_result"
    }
   ],
   "source": [
    "4/7"
   ]
  },
  {
   "cell_type": "code",
   "execution_count": 13,
   "id": "9ccc41e4",
   "metadata": {},
   "outputs": [],
   "source": [
    "def checkAnagram(word1,word2):\n",
    "    if set(word1)==set(word2):\n",
    "        return \"They're anagram\"\n",
    "    return \"They're not anagram\""
   ]
  },
  {
   "cell_type": "code",
   "execution_count": 14,
   "id": "34afb66c",
   "metadata": {},
   "outputs": [
    {
     "data": {
      "text/plain": [
       "\"They're anagram\""
      ]
     },
     "execution_count": 14,
     "metadata": {},
     "output_type": "execute_result"
    }
   ],
   "source": [
    "checkAnagram(\"Smith\",\"mSiht\")"
   ]
  },
  {
   "cell_type": "code",
   "execution_count": 17,
   "id": "4a7f8c68",
   "metadata": {},
   "outputs": [],
   "source": [
    "def checkAnagram1(word1,word2):return True if set(word1)==set(word2) else False\n"
   ]
  },
  {
   "cell_type": "code",
   "execution_count": 19,
   "id": "09fda215",
   "metadata": {},
   "outputs": [
    {
     "data": {
      "text/plain": [
       "False"
      ]
     },
     "execution_count": 19,
     "metadata": {},
     "output_type": "execute_result"
    }
   ],
   "source": [
    "checkAnagram1(\"Smih\",\"mSiht\")"
   ]
  },
  {
   "cell_type": "code",
   "execution_count": null,
   "id": "f419cad2",
   "metadata": {},
   "outputs": [],
   "source": [
    "def checkAnagram1(word1,word2):\n",
    "    return True if set(word1)==set(word2) else False\n"
   ]
  },
  {
   "cell_type": "code",
   "execution_count": 20,
   "id": "62f0a994",
   "metadata": {},
   "outputs": [],
   "source": [
    "checkAnagram2=lambda word1,word2 :True if set(word1)==set(word2) else False"
   ]
  },
  {
   "cell_type": "code",
   "execution_count": 23,
   "id": "96e43179",
   "metadata": {},
   "outputs": [
    {
     "data": {
      "text/plain": [
       "True"
      ]
     },
     "execution_count": 23,
     "metadata": {},
     "output_type": "execute_result"
    }
   ],
   "source": [
    "checkAnagram2(\"Smith\",\"mSiht\")"
   ]
  },
  {
   "cell_type": "code",
   "execution_count": null,
   "id": "9b693565",
   "metadata": {},
   "outputs": [],
   "source": []
  }
 ],
 "metadata": {
  "kernelspec": {
   "display_name": "Python 3 (ipykernel)",
   "language": "python",
   "name": "python3"
  },
  "language_info": {
   "codemirror_mode": {
    "name": "ipython",
    "version": 3
   },
   "file_extension": ".py",
   "mimetype": "text/x-python",
   "name": "python",
   "nbconvert_exporter": "python",
   "pygments_lexer": "ipython3",
   "version": "3.9.12"
  }
 },
 "nbformat": 4,
 "nbformat_minor": 5
}
