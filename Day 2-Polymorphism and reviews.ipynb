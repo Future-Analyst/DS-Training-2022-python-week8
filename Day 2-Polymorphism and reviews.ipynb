{
 "cells": [
  {
   "cell_type": "code",
   "execution_count": 1,
   "id": "61d14a87",
   "metadata": {},
   "outputs": [],
   "source": [
    "class City:\n",
    "    def __init__(self,name,population,language,capital):\n",
    "        self.name=name\n",
    "        self.__population=population\n",
    "        self.__language=language\n",
    "        self.__capital=capital\n",
    "    \n",
    "    def setName(self,name):\n",
    "        self.name=name\n",
    "        \n",
    "        \n",
    "        "
   ]
  },
  {
   "cell_type": "code",
   "execution_count": 3,
   "id": "43c8c337",
   "metadata": {},
   "outputs": [],
   "source": [
    "class Town(City):\n",
    "    def __init__(self,name):\n",
    "        self.name=name\n",
    "        \n",
    "    def printDescription(self):\n",
    "        print(f\"This is a town named {self.name}\")"
   ]
  },
  {
   "cell_type": "code",
   "execution_count": 4,
   "id": "89cc6f40",
   "metadata": {},
   "outputs": [],
   "source": [
    "class Village(City):\n",
    "    def __init__(self,name):\n",
    "        self.name=name\n",
    "        \n",
    "    def printDescription(self):\n",
    "        print(f\"This is a Village named {self.name} and it's indeed a village\")"
   ]
  },
  {
   "cell_type": "code",
   "execution_count": 5,
   "id": "11623491",
   "metadata": {},
   "outputs": [],
   "source": [
    "v1=Village(\"Aluu\")\n",
    "ph=Town(\"Choba\")"
   ]
  },
  {
   "cell_type": "code",
   "execution_count": 6,
   "id": "783fae94",
   "metadata": {},
   "outputs": [],
   "source": [
    "def printInfo(u):\n",
    "    u.printDescription()"
   ]
  },
  {
   "cell_type": "code",
   "execution_count": 7,
   "id": "7bcf075f",
   "metadata": {},
   "outputs": [
    {
     "name": "stdout",
     "output_type": "stream",
     "text": [
      "This is a Village named Aluu and it's indeed a village\n"
     ]
    }
   ],
   "source": [
    "printInfo(v1)"
   ]
  },
  {
   "cell_type": "code",
   "execution_count": 8,
   "id": "ac574c40",
   "metadata": {},
   "outputs": [
    {
     "name": "stdout",
     "output_type": "stream",
     "text": [
      "This is a town named Choba\n"
     ]
    }
   ],
   "source": [
    "printInfo(ph)"
   ]
  },
  {
   "cell_type": "markdown",
   "id": "e6f1f584",
   "metadata": {},
   "source": [
    "## Review "
   ]
  },
  {
   "cell_type": "markdown",
   "id": "3f0c9a7b",
   "metadata": {},
   "source": [
    "### Strings"
   ]
  },
  {
   "cell_type": "code",
   "execution_count": 13,
   "id": "b3f8b458",
   "metadata": {},
   "outputs": [],
   "source": [
    "name = \"George, Boma Smith\"\n",
    "firstName='Boma'\n",
    "lastName=\"\"\"George\"\"\"\n",
    "state='''Rivers'''"
   ]
  },
  {
   "cell_type": "code",
   "execution_count": 10,
   "id": "52ee5b6d",
   "metadata": {},
   "outputs": [
    {
     "data": {
      "text/plain": [
       "'George, Boma Smith'"
      ]
     },
     "execution_count": 10,
     "metadata": {},
     "output_type": "execute_result"
    }
   ],
   "source": [
    "name"
   ]
  },
  {
   "cell_type": "code",
   "execution_count": 11,
   "id": "ea620293",
   "metadata": {},
   "outputs": [
    {
     "data": {
      "text/plain": [
       "'Boma'"
      ]
     },
     "execution_count": 11,
     "metadata": {},
     "output_type": "execute_result"
    }
   ],
   "source": [
    "firstName"
   ]
  },
  {
   "cell_type": "code",
   "execution_count": 12,
   "id": "a3b731a7",
   "metadata": {},
   "outputs": [
    {
     "data": {
      "text/plain": [
       "'George'"
      ]
     },
     "execution_count": 12,
     "metadata": {},
     "output_type": "execute_result"
    }
   ],
   "source": [
    "lastName"
   ]
  },
  {
   "cell_type": "code",
   "execution_count": 14,
   "id": "3f2bca9e",
   "metadata": {},
   "outputs": [
    {
     "data": {
      "text/plain": [
       "'Rivers'"
      ]
     },
     "execution_count": 14,
     "metadata": {},
     "output_type": "execute_result"
    }
   ],
   "source": [
    "state"
   ]
  },
  {
   "cell_type": "code",
   "execution_count": 16,
   "id": "ada88988",
   "metadata": {},
   "outputs": [
    {
     "name": "stdout",
     "output_type": "stream",
     "text": [
      "Menu\n",
      "1. Rice\n",
      "2. Beans\n",
      "3. Garri and Soup\n",
      "Enter your Choice: 3\n"
     ]
    }
   ],
   "source": [
    "print(\"Menu\")\n",
    "print(\"1. Rice\")\n",
    "print(\"2. Beans\")\n",
    "print(\"3. Garri and Soup\")\n",
    "choice=input(\"Enter your Choice: \")"
   ]
  },
  {
   "cell_type": "code",
   "execution_count": 17,
   "id": "07daea36",
   "metadata": {},
   "outputs": [
    {
     "name": "stdout",
     "output_type": "stream",
     "text": [
      "Menu\n",
      "1. Rice\n",
      "2. Beans\n",
      "3. Garri and Soup\n",
      "Enter your Choice: 4\n"
     ]
    }
   ],
   "source": [
    "print(\"Menu\\n1. Rice\\n2. Beans\\n3. Garri and Soup\")\n",
    "choice=input(\"Enter your Choice: \")"
   ]
  },
  {
   "cell_type": "code",
   "execution_count": 20,
   "id": "d5da1783",
   "metadata": {},
   "outputs": [
    {
     "name": "stdout",
     "output_type": "stream",
     "text": [
      "Menu\n",
      "1. Rice\n",
      "2. Beans\n",
      "3. Garri and Soup\n",
      "Enter your Choice: u\n"
     ]
    }
   ],
   "source": [
    "print(\"\"\"Menu\n",
    "1. Rice\n",
    "2. Beans\n",
    "3. Garri and Soup\"\"\")\n",
    "choice=input(\"Enter your Choice: \")"
   ]
  },
  {
   "cell_type": "code",
   "execution_count": 21,
   "id": "493c579d",
   "metadata": {},
   "outputs": [
    {
     "data": {
      "text/plain": [
       "'George, Boma Smith'"
      ]
     },
     "execution_count": 21,
     "metadata": {},
     "output_type": "execute_result"
    }
   ],
   "source": [
    "name"
   ]
  },
  {
   "cell_type": "code",
   "execution_count": 22,
   "id": "2a299656",
   "metadata": {},
   "outputs": [
    {
     "data": {
      "text/plain": [
       "['George', ' Boma Smith']"
      ]
     },
     "execution_count": 22,
     "metadata": {},
     "output_type": "execute_result"
    }
   ],
   "source": [
    "name.split(\",\")"
   ]
  },
  {
   "cell_type": "code",
   "execution_count": 23,
   "id": "180da7c8",
   "metadata": {},
   "outputs": [
    {
     "data": {
      "text/plain": [
       "['George,', 'Boma', 'Smith']"
      ]
     },
     "execution_count": 23,
     "metadata": {},
     "output_type": "execute_result"
    }
   ],
   "source": [
    "name.split(\" \")"
   ]
  },
  {
   "cell_type": "code",
   "execution_count": 26,
   "id": "982e42ed",
   "metadata": {},
   "outputs": [
    {
     "name": "stdout",
     "output_type": "stream",
     "text": [
      "Enter a sentence:                     George\n",
      "                    George\n"
     ]
    }
   ],
   "source": [
    "sentence=input(\"Enter a sentence: \")\n",
    "print(sentence)"
   ]
  },
  {
   "cell_type": "code",
   "execution_count": 28,
   "id": "27c129a6",
   "metadata": {},
   "outputs": [
    {
     "name": "stdout",
     "output_type": "stream",
     "text": [
      "Enter a sentence:                  george\n",
      "23\n"
     ]
    }
   ],
   "source": [
    "sentence=input(\"Enter a sentence: \")\n",
    "print(len(sentence))"
   ]
  },
  {
   "cell_type": "code",
   "execution_count": 29,
   "id": "56dd16d5",
   "metadata": {},
   "outputs": [
    {
     "name": "stdout",
     "output_type": "stream",
     "text": [
      "Enter a sentence:                george\n",
      "6\n"
     ]
    }
   ],
   "source": [
    "sentence=input(\"Enter a sentence: \")\n",
    "print(len(sentence.strip()))"
   ]
  },
  {
   "cell_type": "code",
   "execution_count": 31,
   "id": "90b78375",
   "metadata": {},
   "outputs": [
    {
     "name": "stdout",
     "output_type": "stream",
     "text": [
      "Enter a sentence:     dckdlknmkd\n",
      "10\n"
     ]
    }
   ],
   "source": [
    "sentence=input(\"Enter a sentence: \")\n",
    "print(len(sentence.lstrip()))"
   ]
  },
  {
   "cell_type": "code",
   "execution_count": 36,
   "id": "1a6dbce5",
   "metadata": {},
   "outputs": [
    {
     "data": {
      "text/plain": [
       "0"
      ]
     },
     "execution_count": 36,
     "metadata": {},
     "output_type": "execute_result"
    }
   ],
   "source": [
    "name.count(\"0\")"
   ]
  },
  {
   "cell_type": "code",
   "execution_count": 40,
   "id": "9e05a175",
   "metadata": {},
   "outputs": [
    {
     "name": "stdout",
     "output_type": "stream",
     "text": [
      "Enter a sentence:    this is it\n",
      "3\n"
     ]
    }
   ],
   "source": [
    "sentence=input(\"Enter a sentence: \")\n",
    "word_count=0\n",
    "for c in sentence.strip(\" \"):\n",
    "    if c==\" \":\n",
    "        word_count +=1\n",
    "print(word_count+1)"
   ]
  },
  {
   "cell_type": "code",
   "execution_count": 43,
   "id": "663b9882",
   "metadata": {},
   "outputs": [
    {
     "name": "stdout",
     "output_type": "stream",
     "text": [
      "Enter a sentence:     how are you?\n"
     ]
    },
    {
     "data": {
      "text/plain": [
       "3"
      ]
     },
     "execution_count": 43,
     "metadata": {},
     "output_type": "execute_result"
    }
   ],
   "source": [
    "sentence=input(\"Enter a sentence: \")\n",
    "len(sentence.strip().split(\" \"))## method chaining"
   ]
  },
  {
   "cell_type": "code",
   "execution_count": 47,
   "id": "4a355b7f",
   "metadata": {},
   "outputs": [
    {
     "data": {
      "text/plain": [
       "'t'"
      ]
     },
     "execution_count": 47,
     "metadata": {},
     "output_type": "execute_result"
    }
   ],
   "source": [
    "name[-2]"
   ]
  },
  {
   "cell_type": "code",
   "execution_count": 48,
   "id": "140ab202",
   "metadata": {},
   "outputs": [
    {
     "data": {
      "text/plain": [
       "'George, Boma Smith'"
      ]
     },
     "execution_count": 48,
     "metadata": {},
     "output_type": "execute_result"
    }
   ],
   "source": [
    "name"
   ]
  },
  {
   "cell_type": "code",
   "execution_count": 49,
   "id": "58f41de5",
   "metadata": {},
   "outputs": [],
   "source": [
    "smartHub={\n",
    "    \"Courses\":[\"Data Science\",\"App Dev\",\"Web Dev\",\"Data Analytics\"],\n",
    "    \"age\":3,\n",
    "    \"Location\":\"Abuja Campus\"\n",
    "}"
   ]
  },
  {
   "cell_type": "code",
   "execution_count": 50,
   "id": "14a71527",
   "metadata": {},
   "outputs": [
    {
     "data": {
      "text/plain": [
       "dict_keys(['Courses', 'age', 'Location'])"
      ]
     },
     "execution_count": 50,
     "metadata": {},
     "output_type": "execute_result"
    }
   ],
   "source": [
    "smartHub.keys()"
   ]
  },
  {
   "cell_type": "code",
   "execution_count": 51,
   "id": "0fb60d1c",
   "metadata": {},
   "outputs": [
    {
     "data": {
      "text/plain": [
       "dict_values([['Data Science', 'App Dev', 'Web Dev', 'Data Analytics'], 3, 'Abuja Campus'])"
      ]
     },
     "execution_count": 51,
     "metadata": {},
     "output_type": "execute_result"
    }
   ],
   "source": [
    "smartHub.values()"
   ]
  },
  {
   "cell_type": "code",
   "execution_count": 52,
   "id": "23504f7d",
   "metadata": {},
   "outputs": [
    {
     "data": {
      "text/plain": [
       "dict_items([('Courses', ['Data Science', 'App Dev', 'Web Dev', 'Data Analytics']), ('age', 3), ('Location', 'Abuja Campus')])"
      ]
     },
     "execution_count": 52,
     "metadata": {},
     "output_type": "execute_result"
    }
   ],
   "source": [
    "smartHub.items()"
   ]
  },
  {
   "cell_type": "code",
   "execution_count": 54,
   "id": "308b2545",
   "metadata": {},
   "outputs": [],
   "source": [
    "smartHub[\"age\"] +=1"
   ]
  },
  {
   "cell_type": "code",
   "execution_count": 55,
   "id": "446d83a7",
   "metadata": {},
   "outputs": [
    {
     "data": {
      "text/plain": [
       "{'Courses': ['Data Science', 'App Dev', 'Web Dev', 'Data Analytics'],\n",
       " 'age': 4,\n",
       " 'Location': 'Abuja Campus'}"
      ]
     },
     "execution_count": 55,
     "metadata": {},
     "output_type": "execute_result"
    }
   ],
   "source": [
    "smartHub"
   ]
  },
  {
   "cell_type": "code",
   "execution_count": 56,
   "id": "2a639d61",
   "metadata": {},
   "outputs": [],
   "source": [
    "smartHub[\"openingTime\"]=\"8am\""
   ]
  },
  {
   "cell_type": "code",
   "execution_count": 57,
   "id": "816a2abc",
   "metadata": {},
   "outputs": [
    {
     "data": {
      "text/plain": [
       "{'Courses': ['Data Science', 'App Dev', 'Web Dev', 'Data Analytics'],\n",
       " 'age': 4,\n",
       " 'Location': 'Abuja Campus',\n",
       " 'openingTime': '8am'}"
      ]
     },
     "execution_count": 57,
     "metadata": {},
     "output_type": "execute_result"
    }
   ],
   "source": [
    "smartHub"
   ]
  },
  {
   "cell_type": "code",
   "execution_count": 58,
   "id": "503bfcfd",
   "metadata": {},
   "outputs": [],
   "source": [
    "smartHub[\"Courses\"].append(\"C++ Programming\")"
   ]
  },
  {
   "cell_type": "code",
   "execution_count": 59,
   "id": "aca84dfb",
   "metadata": {},
   "outputs": [
    {
     "data": {
      "text/plain": [
       "{'Courses': ['Data Science',\n",
       "  'App Dev',\n",
       "  'Web Dev',\n",
       "  'Data Analytics',\n",
       "  'C++ Programming'],\n",
       " 'age': 4,\n",
       " 'Location': 'Abuja Campus',\n",
       " 'openingTime': '8am'}"
      ]
     },
     "execution_count": 59,
     "metadata": {},
     "output_type": "execute_result"
    }
   ],
   "source": [
    "smartHub"
   ]
  },
  {
   "cell_type": "code",
   "execution_count": 60,
   "id": "f411cec6",
   "metadata": {},
   "outputs": [
    {
     "data": {
      "text/plain": [
       "'Data Science'"
      ]
     },
     "execution_count": 60,
     "metadata": {},
     "output_type": "execute_result"
    }
   ],
   "source": [
    "smartHub[\"Courses\"].pop(0)"
   ]
  },
  {
   "cell_type": "code",
   "execution_count": 61,
   "id": "91127a74",
   "metadata": {},
   "outputs": [
    {
     "data": {
      "text/plain": [
       "{'Courses': ['App Dev', 'Web Dev', 'Data Analytics', 'C++ Programming'],\n",
       " 'age': 4,\n",
       " 'Location': 'Abuja Campus',\n",
       " 'openingTime': '8am'}"
      ]
     },
     "execution_count": 61,
     "metadata": {},
     "output_type": "execute_result"
    }
   ],
   "source": [
    "smartHub"
   ]
  },
  {
   "cell_type": "code",
   "execution_count": 62,
   "id": "3ace950f",
   "metadata": {},
   "outputs": [],
   "source": [
    "smartHub[\"Courses\"].remove(\"App Dev\")"
   ]
  },
  {
   "cell_type": "code",
   "execution_count": 63,
   "id": "870570c5",
   "metadata": {},
   "outputs": [
    {
     "data": {
      "text/plain": [
       "{'Courses': ['Web Dev', 'Data Analytics', 'C++ Programming'],\n",
       " 'age': 4,\n",
       " 'Location': 'Abuja Campus',\n",
       " 'openingTime': '8am'}"
      ]
     },
     "execution_count": 63,
     "metadata": {},
     "output_type": "execute_result"
    }
   ],
   "source": [
    "smartHub"
   ]
  },
  {
   "cell_type": "code",
   "execution_count": 64,
   "id": "b7534aa8",
   "metadata": {},
   "outputs": [
    {
     "name": "stdout",
     "output_type": "stream",
     "text": [
      "Courses\n",
      "age\n",
      "Location\n",
      "openingTime\n"
     ]
    }
   ],
   "source": [
    "for i in smartHub.keys():\n",
    "    print(i)"
   ]
  },
  {
   "cell_type": "code",
   "execution_count": 65,
   "id": "a88adf98",
   "metadata": {},
   "outputs": [
    {
     "name": "stdout",
     "output_type": "stream",
     "text": [
      "['Web Dev', 'Data Analytics', 'C++ Programming']\n",
      "4\n",
      "Abuja Campus\n",
      "8am\n"
     ]
    }
   ],
   "source": [
    "for i in smartHub.values():\n",
    "    print(i)"
   ]
  },
  {
   "cell_type": "code",
   "execution_count": 66,
   "id": "f4618168",
   "metadata": {},
   "outputs": [
    {
     "name": "stdout",
     "output_type": "stream",
     "text": [
      "('Courses', ['Web Dev', 'Data Analytics', 'C++ Programming'])\n",
      "('age', 4)\n",
      "('Location', 'Abuja Campus')\n",
      "('openingTime', '8am')\n"
     ]
    }
   ],
   "source": [
    "for i in smartHub.items():\n",
    "    print(i)"
   ]
  },
  {
   "cell_type": "code",
   "execution_count": 67,
   "id": "635ff69b",
   "metadata": {},
   "outputs": [
    {
     "name": "stdout",
     "output_type": "stream",
     "text": [
      "Courses\n",
      "['Web Dev', 'Data Analytics', 'C++ Programming']\n",
      "\n",
      "age\n",
      "4\n",
      "\n",
      "Location\n",
      "Abuja Campus\n",
      "\n",
      "openingTime\n",
      "8am\n",
      "\n"
     ]
    }
   ],
   "source": [
    "for i,t in smartHub.items():\n",
    "    print(i)\n",
    "    print(t)\n",
    "    print()"
   ]
  },
  {
   "cell_type": "code",
   "execution_count": 68,
   "id": "2274e565",
   "metadata": {},
   "outputs": [],
   "source": [
    "t,y=7,8"
   ]
  },
  {
   "cell_type": "code",
   "execution_count": 69,
   "id": "7dc30d50",
   "metadata": {},
   "outputs": [
    {
     "data": {
      "text/plain": [
       "7"
      ]
     },
     "execution_count": 69,
     "metadata": {},
     "output_type": "execute_result"
    }
   ],
   "source": [
    "t"
   ]
  },
  {
   "cell_type": "code",
   "execution_count": 70,
   "id": "ce368798",
   "metadata": {},
   "outputs": [
    {
     "data": {
      "text/plain": [
       "8"
      ]
     },
     "execution_count": 70,
     "metadata": {},
     "output_type": "execute_result"
    }
   ],
   "source": [
    "y"
   ]
  },
  {
   "cell_type": "code",
   "execution_count": 71,
   "id": "4fd1aa81",
   "metadata": {},
   "outputs": [
    {
     "data": {
      "text/plain": [
       "(7, 8)"
      ]
     },
     "execution_count": 71,
     "metadata": {},
     "output_type": "execute_result"
    }
   ],
   "source": [
    "7,8"
   ]
  },
  {
   "cell_type": "code",
   "execution_count": 72,
   "id": "82cee261",
   "metadata": {},
   "outputs": [
    {
     "ename": "ValueError",
     "evalue": "too many values to unpack (expected 2)",
     "output_type": "error",
     "traceback": [
      "\u001b[0;31m---------------------------------------------------------------------------\u001b[0m",
      "\u001b[0;31mValueError\u001b[0m                                Traceback (most recent call last)",
      "\u001b[0;32m/var/folders/gg/31n47yf54tj8x7hnpct2tvmr0000gq/T/ipykernel_7077/660519899.py\u001b[0m in \u001b[0;36m<module>\u001b[0;34m\u001b[0m\n\u001b[0;32m----> 1\u001b[0;31m \u001b[0mg\u001b[0m\u001b[0;34m,\u001b[0m\u001b[0mu\u001b[0m\u001b[0;34m=\u001b[0m\u001b[0;36m8\u001b[0m\u001b[0;34m,\u001b[0m\u001b[0;36m5\u001b[0m\u001b[0;34m,\u001b[0m\u001b[0;36m6\u001b[0m\u001b[0;34m\u001b[0m\u001b[0;34m\u001b[0m\u001b[0m\n\u001b[0m",
      "\u001b[0;31mValueError\u001b[0m: too many values to unpack (expected 2)"
     ]
    }
   ],
   "source": [
    "g,u=8,5,6"
   ]
  },
  {
   "cell_type": "code",
   "execution_count": 73,
   "id": "852530f5",
   "metadata": {},
   "outputs": [],
   "source": [
    "g,*u=8,5,6"
   ]
  },
  {
   "cell_type": "code",
   "execution_count": 74,
   "id": "dfb37620",
   "metadata": {},
   "outputs": [
    {
     "data": {
      "text/plain": [
       "8"
      ]
     },
     "execution_count": 74,
     "metadata": {},
     "output_type": "execute_result"
    }
   ],
   "source": [
    "g"
   ]
  },
  {
   "cell_type": "code",
   "execution_count": 75,
   "id": "0e0db75d",
   "metadata": {},
   "outputs": [
    {
     "data": {
      "text/plain": [
       "[5, 6]"
      ]
     },
     "execution_count": 75,
     "metadata": {},
     "output_type": "execute_result"
    }
   ],
   "source": [
    "u"
   ]
  },
  {
   "cell_type": "code",
   "execution_count": 76,
   "id": "7ab20f29",
   "metadata": {},
   "outputs": [],
   "source": [
    "def returnHyp(a,b):\n",
    "    return (a**2+b**2)**0.5"
   ]
  },
  {
   "cell_type": "code",
   "execution_count": 77,
   "id": "5417571e",
   "metadata": {},
   "outputs": [
    {
     "data": {
      "text/plain": [
       "7.211102550927978"
      ]
     },
     "execution_count": 77,
     "metadata": {},
     "output_type": "execute_result"
    }
   ],
   "source": [
    "returnHyp(4,6)"
   ]
  },
  {
   "cell_type": "code",
   "execution_count": 78,
   "id": "997af144",
   "metadata": {},
   "outputs": [],
   "source": [
    "hyp=lambda x,y:(x*x+y*y)**0.5"
   ]
  },
  {
   "cell_type": "code",
   "execution_count": 79,
   "id": "b3dd111f",
   "metadata": {},
   "outputs": [
    {
     "data": {
      "text/plain": [
       "7.211102550927978"
      ]
     },
     "execution_count": 79,
     "metadata": {},
     "output_type": "execute_result"
    }
   ],
   "source": [
    "hyp(4,6)"
   ]
  },
  {
   "cell_type": "code",
   "execution_count": 80,
   "id": "567c1a3e",
   "metadata": {},
   "outputs": [
    {
     "data": {
      "text/plain": [
       "(81, 16, 25, 1156)"
      ]
     },
     "execution_count": 80,
     "metadata": {},
     "output_type": "execute_result"
    }
   ],
   "source": [
    "tuple(map(lambda x: x**2,[9,4,5,34]))"
   ]
  },
  {
   "cell_type": "code",
   "execution_count": null,
   "id": "0fe499e3",
   "metadata": {},
   "outputs": [],
   "source": []
  }
 ],
 "metadata": {
  "kernelspec": {
   "display_name": "Python 3 (ipykernel)",
   "language": "python",
   "name": "python3"
  },
  "language_info": {
   "codemirror_mode": {
    "name": "ipython",
    "version": 3
   },
   "file_extension": ".py",
   "mimetype": "text/x-python",
   "name": "python",
   "nbconvert_exporter": "python",
   "pygments_lexer": "ipython3",
   "version": "3.9.7"
  }
 },
 "nbformat": 4,
 "nbformat_minor": 5
}
